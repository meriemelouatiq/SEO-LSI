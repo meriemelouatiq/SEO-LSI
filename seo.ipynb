{
 "cells": [
  {
   "cell_type": "code",
   "execution_count": 51,
   "metadata": {},
   "outputs": [],
   "source": [
    "import matplotlib.pyplot as plt\n",
    "import numpy\n",
    "import pandas\n",
    "import plotly\n",
    "import langdetect \n"
   ]
  },
  {
   "cell_type": "code",
   "execution_count": 52,
   "metadata": {},
   "outputs": [],
   "source": [
    "DATA_URL = '/metadata/metadata.csv'\n"
   ]
  },
  {
   "cell_type": "code",
   "execution_count": 53,
   "metadata": {},
   "outputs": [],
   "source": [
    "datadf = pandas.read_csv(DATA_URL)\n"
   ]
  },
  {
   "cell_type": "code",
   "execution_count": 4,
   "metadata": {},
   "outputs": [
    {
     "name": "stdout",
     "output_type": "stream",
     "text": [
      "<class 'pandas.core.frame.DataFrame'>\n",
      "RangeIndex: 51078 entries, 0 to 51077\n",
      "Data columns (total 18 columns):\n",
      " #   Column                       Non-Null Count  Dtype  \n",
      "---  ------                       --------------  -----  \n",
      " 0   cord_uid                     51078 non-null  object \n",
      " 1   sha                          38022 non-null  object \n",
      " 2   source_x                     51078 non-null  object \n",
      " 3   title                        50920 non-null  object \n",
      " 4   doi                          47741 non-null  object \n",
      " 5   pmcid                        41082 non-null  object \n",
      " 6   pubmed_id                    37861 non-null  float64\n",
      " 7   license                      51078 non-null  object \n",
      " 8   abstract                     42352 non-null  object \n",
      " 9   publish_time                 51070 non-null  object \n",
      " 10  authors                      48891 non-null  object \n",
      " 11  journal                      46368 non-null  object \n",
      " 12  Microsoft Academic Paper ID  964 non-null    float64\n",
      " 13  WHO #Covidence               1768 non-null   object \n",
      " 14  has_pdf_parse                51078 non-null  bool   \n",
      " 15  has_pmc_xml_parse            51078 non-null  bool   \n",
      " 16  full_text_file               42511 non-null  object \n",
      " 17  url                          50776 non-null  object \n",
      "dtypes: bool(2), float64(2), object(14)\n",
      "memory usage: 6.3+ MB\n",
      "None\n"
     ]
    }
   ],
   "source": [
    "print(datadf.info())\n"
   ]
  },
  {
   "cell_type": "code",
   "execution_count": 5,
   "metadata": {},
   "outputs": [
    {
     "data": {
      "text/html": [
       "<div>\n",
       "<style scoped>\n",
       "    .dataframe tbody tr th:only-of-type {\n",
       "        vertical-align: middle;\n",
       "    }\n",
       "\n",
       "    .dataframe tbody tr th {\n",
       "        vertical-align: top;\n",
       "    }\n",
       "\n",
       "    .dataframe thead th {\n",
       "        text-align: right;\n",
       "    }\n",
       "</style>\n",
       "<table border=\"1\" class=\"dataframe\">\n",
       "  <thead>\n",
       "    <tr style=\"text-align: right;\">\n",
       "      <th></th>\n",
       "      <th>cord_uid</th>\n",
       "      <th>sha</th>\n",
       "      <th>source_x</th>\n",
       "      <th>title</th>\n",
       "      <th>doi</th>\n",
       "      <th>pmcid</th>\n",
       "      <th>pubmed_id</th>\n",
       "      <th>license</th>\n",
       "      <th>abstract</th>\n",
       "      <th>publish_time</th>\n",
       "      <th>authors</th>\n",
       "      <th>journal</th>\n",
       "      <th>Microsoft Academic Paper ID</th>\n",
       "      <th>WHO #Covidence</th>\n",
       "      <th>has_pdf_parse</th>\n",
       "      <th>has_pmc_xml_parse</th>\n",
       "      <th>full_text_file</th>\n",
       "      <th>url</th>\n",
       "    </tr>\n",
       "  </thead>\n",
       "  <tbody>\n",
       "    <tr>\n",
       "      <th>0</th>\n",
       "      <td>xqhn0vbp</td>\n",
       "      <td>1e1286db212100993d03cc22374b624f7caee956</td>\n",
       "      <td>PMC</td>\n",
       "      <td>Airborne rhinovirus detection and effect of ul...</td>\n",
       "      <td>10.1186/1471-2458-3-5</td>\n",
       "      <td>PMC140314</td>\n",
       "      <td>12525263.0</td>\n",
       "      <td>no-cc</td>\n",
       "      <td>BACKGROUND: Rhinovirus, the most common cause ...</td>\n",
       "      <td>2003-01-13</td>\n",
       "      <td>Myatt, Theodore A; Johnston, Sebastian L; Rudn...</td>\n",
       "      <td>BMC Public Health</td>\n",
       "      <td>NaN</td>\n",
       "      <td>NaN</td>\n",
       "      <td>True</td>\n",
       "      <td>True</td>\n",
       "      <td>custom_license</td>\n",
       "      <td>https://www.ncbi.nlm.nih.gov/pmc/articles/PMC1...</td>\n",
       "    </tr>\n",
       "    <tr>\n",
       "      <th>1</th>\n",
       "      <td>gi6uaa83</td>\n",
       "      <td>8ae137c8da1607b3a8e4c946c07ca8bda67f88ac</td>\n",
       "      <td>PMC</td>\n",
       "      <td>Discovering human history from stomach bacteria</td>\n",
       "      <td>10.1186/gb-2003-4-5-213</td>\n",
       "      <td>PMC156578</td>\n",
       "      <td>12734001.0</td>\n",
       "      <td>no-cc</td>\n",
       "      <td>Recent analyses of human pathogens have reveal...</td>\n",
       "      <td>2003-04-28</td>\n",
       "      <td>Disotell, Todd R</td>\n",
       "      <td>Genome Biol</td>\n",
       "      <td>NaN</td>\n",
       "      <td>NaN</td>\n",
       "      <td>True</td>\n",
       "      <td>True</td>\n",
       "      <td>custom_license</td>\n",
       "      <td>https://www.ncbi.nlm.nih.gov/pmc/articles/PMC1...</td>\n",
       "    </tr>\n",
       "    <tr>\n",
       "      <th>2</th>\n",
       "      <td>le0ogx1s</td>\n",
       "      <td>NaN</td>\n",
       "      <td>PMC</td>\n",
       "      <td>A new recruit for the army of the men of death</td>\n",
       "      <td>10.1186/gb-2003-4-7-113</td>\n",
       "      <td>PMC193621</td>\n",
       "      <td>12844350.0</td>\n",
       "      <td>no-cc</td>\n",
       "      <td>The army of the men of death, in John Bunyan's...</td>\n",
       "      <td>2003-06-27</td>\n",
       "      <td>Petsko, Gregory A</td>\n",
       "      <td>Genome Biol</td>\n",
       "      <td>NaN</td>\n",
       "      <td>NaN</td>\n",
       "      <td>False</td>\n",
       "      <td>True</td>\n",
       "      <td>custom_license</td>\n",
       "      <td>https://www.ncbi.nlm.nih.gov/pmc/articles/PMC1...</td>\n",
       "    </tr>\n",
       "    <tr>\n",
       "      <th>3</th>\n",
       "      <td>fy4w7xz8</td>\n",
       "      <td>0104f6ceccf92ae8567a0102f89cbb976969a774</td>\n",
       "      <td>PMC</td>\n",
       "      <td>Association of HLA class I with severe acute r...</td>\n",
       "      <td>10.1186/1471-2350-4-9</td>\n",
       "      <td>PMC212558</td>\n",
       "      <td>12969506.0</td>\n",
       "      <td>no-cc</td>\n",
       "      <td>BACKGROUND: The human leukocyte antigen (HLA) ...</td>\n",
       "      <td>2003-09-12</td>\n",
       "      <td>Lin, Marie; Tseng, Hsiang-Kuang; Trejaut, Jean...</td>\n",
       "      <td>BMC Med Genet</td>\n",
       "      <td>NaN</td>\n",
       "      <td>NaN</td>\n",
       "      <td>True</td>\n",
       "      <td>True</td>\n",
       "      <td>custom_license</td>\n",
       "      <td>https://www.ncbi.nlm.nih.gov/pmc/articles/PMC2...</td>\n",
       "    </tr>\n",
       "    <tr>\n",
       "      <th>4</th>\n",
       "      <td>0qaoam29</td>\n",
       "      <td>5b68a553a7cbbea13472721cd1ad617d42b40c26</td>\n",
       "      <td>PMC</td>\n",
       "      <td>A double epidemic model for the SARS propagation</td>\n",
       "      <td>10.1186/1471-2334-3-19</td>\n",
       "      <td>PMC222908</td>\n",
       "      <td>12964944.0</td>\n",
       "      <td>no-cc</td>\n",
       "      <td>BACKGROUND: An epidemic of a Severe Acute Resp...</td>\n",
       "      <td>2003-09-10</td>\n",
       "      <td>Ng, Tuen Wai; Turinici, Gabriel; Danchin, Antoine</td>\n",
       "      <td>BMC Infect Dis</td>\n",
       "      <td>NaN</td>\n",
       "      <td>NaN</td>\n",
       "      <td>True</td>\n",
       "      <td>True</td>\n",
       "      <td>custom_license</td>\n",
       "      <td>https://www.ncbi.nlm.nih.gov/pmc/articles/PMC2...</td>\n",
       "    </tr>\n",
       "  </tbody>\n",
       "</table>\n",
       "</div>"
      ],
      "text/plain": [
       "   cord_uid                                       sha source_x  \\\n",
       "0  xqhn0vbp  1e1286db212100993d03cc22374b624f7caee956      PMC   \n",
       "1  gi6uaa83  8ae137c8da1607b3a8e4c946c07ca8bda67f88ac      PMC   \n",
       "2  le0ogx1s                                       NaN      PMC   \n",
       "3  fy4w7xz8  0104f6ceccf92ae8567a0102f89cbb976969a774      PMC   \n",
       "4  0qaoam29  5b68a553a7cbbea13472721cd1ad617d42b40c26      PMC   \n",
       "\n",
       "                                               title                      doi  \\\n",
       "0  Airborne rhinovirus detection and effect of ul...    10.1186/1471-2458-3-5   \n",
       "1    Discovering human history from stomach bacteria  10.1186/gb-2003-4-5-213   \n",
       "2     A new recruit for the army of the men of death  10.1186/gb-2003-4-7-113   \n",
       "3  Association of HLA class I with severe acute r...    10.1186/1471-2350-4-9   \n",
       "4   A double epidemic model for the SARS propagation   10.1186/1471-2334-3-19   \n",
       "\n",
       "       pmcid   pubmed_id license  \\\n",
       "0  PMC140314  12525263.0   no-cc   \n",
       "1  PMC156578  12734001.0   no-cc   \n",
       "2  PMC193621  12844350.0   no-cc   \n",
       "3  PMC212558  12969506.0   no-cc   \n",
       "4  PMC222908  12964944.0   no-cc   \n",
       "\n",
       "                                            abstract publish_time  \\\n",
       "0  BACKGROUND: Rhinovirus, the most common cause ...   2003-01-13   \n",
       "1  Recent analyses of human pathogens have reveal...   2003-04-28   \n",
       "2  The army of the men of death, in John Bunyan's...   2003-06-27   \n",
       "3  BACKGROUND: The human leukocyte antigen (HLA) ...   2003-09-12   \n",
       "4  BACKGROUND: An epidemic of a Severe Acute Resp...   2003-09-10   \n",
       "\n",
       "                                             authors            journal  \\\n",
       "0  Myatt, Theodore A; Johnston, Sebastian L; Rudn...  BMC Public Health   \n",
       "1                                   Disotell, Todd R        Genome Biol   \n",
       "2                                  Petsko, Gregory A        Genome Biol   \n",
       "3  Lin, Marie; Tseng, Hsiang-Kuang; Trejaut, Jean...      BMC Med Genet   \n",
       "4  Ng, Tuen Wai; Turinici, Gabriel; Danchin, Antoine     BMC Infect Dis   \n",
       "\n",
       "   Microsoft Academic Paper ID WHO #Covidence  has_pdf_parse  \\\n",
       "0                          NaN            NaN           True   \n",
       "1                          NaN            NaN           True   \n",
       "2                          NaN            NaN          False   \n",
       "3                          NaN            NaN           True   \n",
       "4                          NaN            NaN           True   \n",
       "\n",
       "   has_pmc_xml_parse  full_text_file  \\\n",
       "0               True  custom_license   \n",
       "1               True  custom_license   \n",
       "2               True  custom_license   \n",
       "3               True  custom_license   \n",
       "4               True  custom_license   \n",
       "\n",
       "                                                 url  \n",
       "0  https://www.ncbi.nlm.nih.gov/pmc/articles/PMC1...  \n",
       "1  https://www.ncbi.nlm.nih.gov/pmc/articles/PMC1...  \n",
       "2  https://www.ncbi.nlm.nih.gov/pmc/articles/PMC1...  \n",
       "3  https://www.ncbi.nlm.nih.gov/pmc/articles/PMC2...  \n",
       "4  https://www.ncbi.nlm.nih.gov/pmc/articles/PMC2...  "
      ]
     },
     "execution_count": 5,
     "metadata": {},
     "output_type": "execute_result"
    }
   ],
   "source": [
    "datadf.head()"
   ]
  },
  {
   "cell_type": "code",
   "execution_count": 54,
   "metadata": {},
   "outputs": [
    {
     "name": "stdout",
     "output_type": "stream",
     "text": [
      "CPU times: total: 4min 48s\n",
      "Wall time: 5min 17s\n"
     ]
    }
   ],
   "source": [
    "%%time\n",
    "def detect_language(text):\n",
    "  try:\n",
    "    return langdetect.detect(text)\n",
    "  except:\n",
    "    return None\n",
    "\n",
    "datadf['language'] = datadf['title'].apply(detect_language)"
   ]
  },
  {
   "cell_type": "code",
   "execution_count": 41,
   "metadata": {},
   "outputs": [
    {
     "name": "stdout",
     "output_type": "stream",
     "text": [
      "Languages: ['en' 'ro' 'lt' 'ca' 'fr' 'it' 'id' 'de' 'tl' 'nl' 'es' 'da' 'sw' 'af'\n",
      " 'et' 'cy' 'pt' 'sv' 'no' 'zh-cn' 'ko' 'hu' 'fi' 'vi' 'el' 'sl' 'pl' 'sq'\n",
      " 'lv' 'so' 'sk' None 'hr' 'tr']\n",
      "          cord_uid\n",
      "language          \n",
      "en           47906\n",
      "fr             773\n",
      "de             426\n",
      "es             401\n",
      "it             335\n",
      "ca             206\n",
      "ro             164\n",
      "nl             132\n",
      "af              90\n",
      "et              73\n",
      "pt              58\n",
      "tl              51\n",
      "id              45\n",
      "lt              45\n",
      "no              44\n",
      "da              39\n",
      "vi              22\n",
      "fi              20\n",
      "cy              14\n",
      "sl              10\n",
      "so              10\n",
      "sv              10\n",
      "pl               8\n",
      "sw               8\n",
      "hu               7\n",
      "ko               6\n",
      "hr               5\n",
      "tr               4\n",
      "lv               3\n",
      "zh-cn            2\n",
      "sq               1\n",
      "el               1\n",
      "sk               1\n",
      "Licences: ['no-cc' 'cc-by' 'cc0' 'unk' 'cc-by-nc' 'cc-by-nc-nd' 'cc-by-nc-sa'\n",
      " 'cc-by-nd' 'els-covid' 'biorxiv' 'medrvix' 'cc-by-sa' 'pd']...\n",
      "             cord_uid\n",
      "license              \n",
      "els-covid       19457\n",
      "unk             10724\n",
      "cc-by            9060\n",
      "no-cc            7296\n",
      "cc-by-nc         1216\n",
      "medrvix          1088\n",
      "biorxiv           764\n",
      "cc-by-nc-nd       727\n",
      "cc-by-nc-sa       477\n",
      "cc0               260\n",
      "cc-by-nd            4\n",
      "pd                  3\n",
      "cc-by-sa            2\n"
     ]
    }
   ],
   "source": [
    "print('Languages: %s' % datadf['language'].unique())\n",
    "print(datadf[['language', 'cord_uid']].groupby('language')\n",
    "                                      .count()\n",
    "                                      .sort_values('cord_uid', ascending=False))\n",
    "print('Licences: %s...' % datadf['license'].unique())\n",
    "print(datadf[['license', 'cord_uid']].groupby('license')\n",
    "                                     .count()\n",
    "                                     .sort_values('cord_uid', ascending=False))"
   ]
  },
  {
   "cell_type": "code",
   "execution_count": 55,
   "metadata": {},
   "outputs": [],
   "source": [
    "LANGUAGE = 'en'\n",
    "\n",
    "docdf = datadf.loc[datadf['language'] == LANGUAGE, ['cord_uid', 'publish_time', 'title', 'authors', 'abstract','url']] \\\n",
    "              .rename(columns=dict(cord_uid='id', publish_time='date', abstract='text'))\n",
    "docdf = docdf.groupby('id').first().reset_index()\n",
    "docdf.sort_values('date', ascending=False, inplace=True)\n",
    "docdf.dropna(inplace=True)\n"
   ]
  },
  {
   "cell_type": "code",
   "execution_count": 72,
   "metadata": {},
   "outputs": [],
   "source": [
    "urls = datadf['url']"
   ]
  },
  {
   "cell_type": "code",
   "execution_count": 89,
   "metadata": {},
   "outputs": [],
   "source": [
    "urls = list(urls)"
   ]
  },
  {
   "cell_type": "code",
   "execution_count": 92,
   "metadata": {},
   "outputs": [],
   "source": [
    "with open('url.txt', 'rb') as fp:\n",
    "        titles = json.load(fp)"
   ]
  },
  {
   "cell_type": "code",
   "execution_count": 8,
   "metadata": {},
   "outputs": [
    {
     "name": "stdout",
     "output_type": "stream",
     "text": [
      "<class 'pandas.core.frame.DataFrame'>\n",
      "Int64Index: 40209 entries, 9340 to 173\n",
      "Data columns (total 5 columns):\n",
      " #   Column   Non-Null Count  Dtype \n",
      "---  ------   --------------  ----- \n",
      " 0   id       40209 non-null  object\n",
      " 1   date     40209 non-null  object\n",
      " 2   title    40209 non-null  object\n",
      " 3   authors  40209 non-null  object\n",
      " 4   text     40209 non-null  object\n",
      "dtypes: object(5)\n",
      "memory usage: 1.8+ MB\n",
      "None\n"
     ]
    },
    {
     "data": {
      "text/html": [
       "<div>\n",
       "<style scoped>\n",
       "    .dataframe tbody tr th:only-of-type {\n",
       "        vertical-align: middle;\n",
       "    }\n",
       "\n",
       "    .dataframe tbody tr th {\n",
       "        vertical-align: top;\n",
       "    }\n",
       "\n",
       "    .dataframe thead th {\n",
       "        text-align: right;\n",
       "    }\n",
       "</style>\n",
       "<table border=\"1\" class=\"dataframe\">\n",
       "  <thead>\n",
       "    <tr style=\"text-align: right;\">\n",
       "      <th></th>\n",
       "      <th>id</th>\n",
       "      <th>date</th>\n",
       "      <th>title</th>\n",
       "      <th>authors</th>\n",
       "      <th>text</th>\n",
       "    </tr>\n",
       "  </thead>\n",
       "  <tbody>\n",
       "    <tr>\n",
       "      <th>9340</th>\n",
       "      <td>6zld1n9n</td>\n",
       "      <td>2020-12-31</td>\n",
       "      <td>Chapter 27 Emergence and Reemergence of Viral ...</td>\n",
       "      <td>El Amri, Hamid; Boukharta, Mohamed; Zakham, Fa...</td>\n",
       "      <td>Abstract The unpredictable emergence of new zo...</td>\n",
       "    </tr>\n",
       "    <tr>\n",
       "      <th>36179</th>\n",
       "      <td>r5va3y1n</td>\n",
       "      <td>2020-12-31</td>\n",
       "      <td>Chapter 48 Mucosal Vaccine Development for Vet...</td>\n",
       "      <td>Wilson, Heather L.; Gerdts, Volker; Babiuk, Lo...</td>\n",
       "      <td>Abstract Because most pathogens and food antig...</td>\n",
       "    </tr>\n",
       "    <tr>\n",
       "      <th>40072</th>\n",
       "      <td>u4i5tmey</td>\n",
       "      <td>2020-12-31</td>\n",
       "      <td>Chapter 40 Waterborne Transmission of Enteric ...</td>\n",
       "      <td>Bouseettine, Rihab; Hassou, Najwa; Bessi, Hlim...</td>\n",
       "      <td>Abstract Viruses of human or animal origin can...</td>\n",
       "    </tr>\n",
       "    <tr>\n",
       "      <th>22001</th>\n",
       "      <td>ggac3kl0</td>\n",
       "      <td>2020-12-31</td>\n",
       "      <td>13 Nanomaterial-based sensors</td>\n",
       "      <td>Arduini, Fabiana; Cinti, Stefano; Scognamiglio...</td>\n",
       "      <td>Abstract This chapter deals with the advanceme...</td>\n",
       "    </tr>\n",
       "    <tr>\n",
       "      <th>11822</th>\n",
       "      <td>8sklix0x</td>\n",
       "      <td>2020-12-31</td>\n",
       "      <td>Chapter 12 Next generation agents (synthetic a...</td>\n",
       "      <td>Sharma, Anshula; Gupta, Gaganjot; Ahmad, Tawse...</td>\n",
       "      <td>Abstract Biological weapons are highly contagi...</td>\n",
       "    </tr>\n",
       "  </tbody>\n",
       "</table>\n",
       "</div>"
      ],
      "text/plain": [
       "             id        date  \\\n",
       "9340   6zld1n9n  2020-12-31   \n",
       "36179  r5va3y1n  2020-12-31   \n",
       "40072  u4i5tmey  2020-12-31   \n",
       "22001  ggac3kl0  2020-12-31   \n",
       "11822  8sklix0x  2020-12-31   \n",
       "\n",
       "                                                   title  \\\n",
       "9340   Chapter 27 Emergence and Reemergence of Viral ...   \n",
       "36179  Chapter 48 Mucosal Vaccine Development for Vet...   \n",
       "40072  Chapter 40 Waterborne Transmission of Enteric ...   \n",
       "22001                      13 Nanomaterial-based sensors   \n",
       "11822  Chapter 12 Next generation agents (synthetic a...   \n",
       "\n",
       "                                                 authors  \\\n",
       "9340   El Amri, Hamid; Boukharta, Mohamed; Zakham, Fa...   \n",
       "36179  Wilson, Heather L.; Gerdts, Volker; Babiuk, Lo...   \n",
       "40072  Bouseettine, Rihab; Hassou, Najwa; Bessi, Hlim...   \n",
       "22001  Arduini, Fabiana; Cinti, Stefano; Scognamiglio...   \n",
       "11822  Sharma, Anshula; Gupta, Gaganjot; Ahmad, Tawse...   \n",
       "\n",
       "                                                    text  \n",
       "9340   Abstract The unpredictable emergence of new zo...  \n",
       "36179  Abstract Because most pathogens and food antig...  \n",
       "40072  Abstract Viruses of human or animal origin can...  \n",
       "22001  Abstract This chapter deals with the advanceme...  \n",
       "11822  Abstract Biological weapons are highly contagi...  "
      ]
     },
     "execution_count": 8,
     "metadata": {},
     "output_type": "execute_result"
    }
   ],
   "source": [
    "\n",
    "print(docdf.info())\n",
    "docdf.head()"
   ]
  },
  {
   "cell_type": "code",
   "execution_count": null,
   "metadata": {},
   "outputs": [],
   "source": [
    "docdf['text']"
   ]
  },
  {
   "cell_type": "code",
   "execution_count": 29,
   "metadata": {},
   "outputs": [
    {
     "name": "stderr",
     "output_type": "stream",
     "text": [
      "[nltk_data] Downloading package wordnet to C:\\Users\\el\n",
      "[nltk_data]     ouatiq\\AppData\\Roaming\\nltk_data...\n",
      "[nltk_data]   Package wordnet is already up-to-date!\n"
     ]
    },
    {
     "data": {
      "text/plain": [
       "True"
      ]
     },
     "execution_count": 29,
     "metadata": {},
     "output_type": "execute_result"
    }
   ],
   "source": [
    "import gensim\n",
    "from nltk.tokenize import word_tokenize\n",
    "from sklearn.feature_extraction.text import TfidfVectorizer\n",
    "from gensim.utils import simple_preprocess\n",
    "from gensim.parsing.preprocessing import STOPWORDS\n",
    "from nltk.stem import WordNetLemmatizer, SnowballStemmer\n",
    "from nltk.stem.porter import *\n",
    "import nltk\n",
    "nltk.download('wordnet')"
   ]
  },
  {
   "cell_type": "code",
   "execution_count": 30,
   "metadata": {},
   "outputs": [
    {
     "name": "stderr",
     "output_type": "stream",
     "text": [
      "[nltk_data] Downloading package omw-1.4 to C:\\Users\\el\n",
      "[nltk_data]     ouatiq\\AppData\\Roaming\\nltk_data...\n",
      "[nltk_data]   Package omw-1.4 is already up-to-date!\n"
     ]
    },
    {
     "data": {
      "text/plain": [
       "True"
      ]
     },
     "execution_count": 30,
     "metadata": {},
     "output_type": "execute_result"
    }
   ],
   "source": [
    "nltk.download('omw-1.4')"
   ]
  },
  {
   "cell_type": "code",
   "execution_count": 21,
   "metadata": {},
   "outputs": [],
   "source": [
    "def lemmatize_stemming(text):\n",
    "    stemmer = SnowballStemmer(\"english\")\n",
    "    return stemmer.stem(WordNetLemmatizer().lemmatize(text, pos='v'))\n",
    "def preprocess2(text):\n",
    "    result=[]\n",
    "    for token in gensim.utils.simple_preprocess(text) :\n",
    "        if token not in gensim.parsing.preprocessing.STOPWORDS and len(token) > 3:\n",
    "            result.append(lemmatize_stemming(token))\n",
    "    return result"
   ]
  },
  {
   "cell_type": "code",
   "execution_count": 46,
   "metadata": {},
   "outputs": [],
   "source": [
    "import re\n",
    "from nltk.corpus import stopwords\n",
    "from nltk.tokenize import word_tokenize\n",
    "from nltk.stem import PorterStemmer"
   ]
  },
  {
   "cell_type": "code",
   "execution_count": 48,
   "metadata": {},
   "outputs": [],
   "source": [
    "processed_docs2 = [preprocess2(doc) for doc in docdf['text']]"
   ]
  },
  {
   "cell_type": "code",
   "execution_count": 52,
   "metadata": {},
   "outputs": [],
   "source": [
    "import json\n",
    "with open(\"proc.txt\", \"w\") as f:\n",
    "    json.dump(processed_docs2, f)"
   ]
  },
  {
   "cell_type": "code",
   "execution_count": 53,
   "metadata": {},
   "outputs": [],
   "source": [
    "with open(\"proc.txt\") as f:\n",
    "    lst = json.load(f)"
   ]
  },
  {
   "cell_type": "code",
   "execution_count": 19,
   "metadata": {},
   "outputs": [],
   "source": [
    "from gensim.corpora import Dictionary"
   ]
  },
  {
   "cell_type": "code",
   "execution_count": 16,
   "metadata": {},
   "outputs": [],
   "source": [
    "dictionary = Dictionary(processed_docs2)"
   ]
  },
  {
   "cell_type": "code",
   "execution_count": 17,
   "metadata": {},
   "outputs": [],
   "source": [
    "# Convert the preprocessed documents into a bag-of-words representation\n",
    "bow_corpus = [dictionary.doc2bow(doc) for doc in processed_docs2]"
   ]
  },
  {
   "cell_type": "code",
   "execution_count": 15,
   "metadata": {},
   "outputs": [],
   "source": [
    "import json \n",
    "with open(\"proc.txt\") as f:\n",
    "    processed_docs2 = json.load(f)"
   ]
  },
  {
   "cell_type": "code",
   "execution_count": 18,
   "metadata": {},
   "outputs": [],
   "source": [
    "import gensim\n",
    "# Create a TF-IDF model from the bag-of-words representation\n",
    "tfidf = gensim.models.TfidfModel(bow_corpus)\n",
    "corpus_tfidf = tfidf[bow_corpus]"
   ]
  },
  {
   "cell_type": "code",
   "execution_count": 37,
   "metadata": {},
   "outputs": [
    {
     "name": "stderr",
     "output_type": "stream",
     "text": [
      "2023-02-20 17:55:52.444 using serial LSI version on this node\n",
      "2023-02-20 17:55:52.634 updating model with new documents\n",
      "2023-02-20 17:56:00.827 preparing a new chunk of documents\n",
      "2023-02-20 17:56:01.447 using 100 extra samples and 2 power iterations\n",
      "2023-02-20 17:56:01.451 1st phase: constructing (51575, 102) action matrix\n",
      "2023-02-20 17:56:06.277 orthonormalizing (51575, 102) action matrix\n",
      "2023-02-20 17:56:11.619 2nd phase: running dense svd on (102, 20000) matrix\n",
      "2023-02-20 17:56:14.003 computing the final decomposition\n",
      "2023-02-20 17:56:14.035 keeping 2 factors (discarding 81.872% of energy spectrum)\n",
      "2023-02-20 17:56:14.225 processed documents up to #20000\n",
      "2023-02-20 17:56:14.718 topic #0(22.442): 0.200*\"mer\" + 0.169*\"patient\" + 0.159*\"covid\" + 0.135*\"case\" + 0.127*\"respiratori\" + 0.127*\"infect\" + 0.127*\"virus\" + 0.117*\"vaccin\" + 0.111*\"diseas\" + 0.108*\"sar\"\n",
      "2023-02-20 17:56:14.728 topic #1(13.462): -0.352*\"covid\" + -0.240*\"patient\" + -0.210*\"case\" + 0.185*\"cell\" + 0.168*\"protein\" + 0.150*\"pedv\" + 0.138*\"host\" + 0.138*\"vaccin\" + 0.136*\"immun\" + -0.116*\"china\"\n",
      "2023-02-20 17:56:20.467 preparing a new chunk of documents\n",
      "2023-02-20 17:56:20.752 using 100 extra samples and 2 power iterations\n",
      "2023-02-20 17:56:20.753 1st phase: constructing (51575, 102) action matrix\n",
      "2023-02-20 17:56:21.217 orthonormalizing (51575, 102) action matrix\n",
      "2023-02-20 17:56:27.020 2nd phase: running dense svd on (102, 20000) matrix\n",
      "2023-02-20 17:56:28.392 computing the final decomposition\n",
      "2023-02-20 17:56:28.392 keeping 2 factors (discarding 82.978% of energy spectrum)\n",
      "2023-02-20 17:56:28.412 merging projections: (51575, 2) + (51575, 2)\n",
      "2023-02-20 17:56:28.624 keeping 2 factors (discarding 6.658% of energy spectrum)\n",
      "2023-02-20 17:56:28.630 processed documents up to #40000\n",
      "2023-02-20 17:56:28.641 topic #0(30.372): 0.188*\"sar\" + 0.151*\"virus\" + 0.144*\"cell\" + 0.133*\"protein\" + 0.133*\"infect\" + 0.131*\"patient\" + 0.122*\"vaccin\" + 0.120*\"respiratori\" + 0.115*\"influenza\" + 0.113*\"viral\"\n",
      "2023-02-20 17:56:28.651 topic #1(17.875): -0.239*\"patient\" + 0.236*\"protein\" + -0.233*\"covid\" + 0.220*\"cell\" + -0.182*\"case\" + -0.119*\"hospit\" + 0.117*\"express\" + -0.112*\"health\" + 0.110*\"replic\" + -0.106*\"respiratori\"\n",
      "2023-02-20 17:56:28.892 preparing a new chunk of documents\n",
      "2023-02-20 17:56:28.894 using 100 extra samples and 2 power iterations\n",
      "2023-02-20 17:56:28.895 1st phase: constructing (51575, 102) action matrix\n",
      "2023-02-20 17:56:28.903 orthonormalizing (51575, 102) action matrix\n",
      "2023-02-20 17:56:32.616 2nd phase: running dense svd on (102, 219) matrix\n",
      "2023-02-20 17:56:32.667 computing the final decomposition\n",
      "2023-02-20 17:56:32.669 keeping 2 factors (discarding 90.296% of energy spectrum)\n",
      "2023-02-20 17:56:32.693 merging projections: (51575, 2) + (51575, 2)\n",
      "2023-02-20 17:56:32.700 keeping 2 factors (discarding 0.866% of energy spectrum)\n",
      "2023-02-20 17:56:32.702 processed documents up to #40219\n",
      "2023-02-20 17:56:32.706 topic #0(30.420): 0.187*\"sar\" + 0.152*\"virus\" + 0.144*\"cell\" + 0.133*\"infect\" + 0.133*\"protein\" + 0.131*\"patient\" + 0.122*\"vaccin\" + 0.120*\"respiratori\" + 0.115*\"influenza\" + 0.113*\"viral\"\n",
      "2023-02-20 17:56:32.709 topic #1(17.881): -0.239*\"patient\" + 0.236*\"protein\" + -0.234*\"covid\" + 0.220*\"cell\" + -0.182*\"case\" + -0.119*\"hospit\" + 0.117*\"express\" + -0.113*\"health\" + 0.110*\"replic\" + -0.106*\"respiratori\"\n",
      "2023-02-20 17:56:32.712 LsiModel lifecycle event {'msg': 'trained LsiModel<num_terms=51575, num_topics=2, decay=1.0, chunksize=20000> in 40.27s', 'datetime': '2023-02-20T17:56:32.712356', 'gensim': '4.3.0', 'python': '3.9.0 (tags/v3.9.0:9cf6752, Oct  5 2020, 15:34:40) [MSC v.1927 64 bit (AMD64)]', 'platform': 'Windows-10-10.0.19041-SP0', 'event': 'created'}\n"
     ]
    }
   ],
   "source": [
    "# Create an LSI model from the TF-IDF representation\n",
    "lsi_model2 = gensim.models.LsiModel(corpus_tfidf, id2word=dictionary, num_topics=2)"
   ]
  },
  {
   "cell_type": "code",
   "execution_count": 34,
   "metadata": {},
   "outputs": [
    {
     "name": "stderr",
     "output_type": "stream",
     "text": [
      "2023-02-20 17:49:48.492 Projection lifecycle event {'fname_or_handle': 'lsi.model.projection', 'separately': 'None', 'sep_limit': 10485760, 'ignore': frozenset(), 'datetime': '2023-02-20T17:49:48.426740', 'gensim': '4.3.0', 'python': '3.9.0 (tags/v3.9.0:9cf6752, Oct  5 2020, 15:34:40) [MSC v.1927 64 bit (AMD64)]', 'platform': 'Windows-10-10.0.19041-SP0', 'event': 'saving'}\n",
      "2023-02-20 17:49:50.137 saved lsi.model.projection\n",
      "2023-02-20 17:49:50.140 LsiModel lifecycle event {'fname_or_handle': 'lsi.model', 'separately': 'None', 'sep_limit': 10485760, 'ignore': ['projection', 'dispatcher'], 'datetime': '2023-02-20T17:49:50.140501', 'gensim': '4.3.0', 'python': '3.9.0 (tags/v3.9.0:9cf6752, Oct  5 2020, 15:34:40) [MSC v.1927 64 bit (AMD64)]', 'platform': 'Windows-10-10.0.19041-SP0', 'event': 'saving'}\n",
      "2023-02-20 17:49:50.337 not storing attribute projection\n",
      "2023-02-20 17:49:50.338 not storing attribute dispatcher\n",
      "2023-02-20 17:50:01.595 saved lsi.model\n"
     ]
    }
   ],
   "source": [
    "lsi_model2.save(\"lsi.model\")"
   ]
  },
  {
   "cell_type": "code",
   "execution_count": null,
   "metadata": {},
   "outputs": [],
   "source": [
    "from gensim.models import LsiModel\n",
    "lsi_model = LsiModel.load(\"lsi.model\")"
   ]
  },
  {
   "cell_type": "code",
   "execution_count": 37,
   "metadata": {},
   "outputs": [],
   "source": [
    "# Define the query what is difference between sars  and corona virus.?\n",
    "query = \"\""
   ]
  },
  {
   "cell_type": "code",
   "execution_count": 38,
   "metadata": {},
   "outputs": [],
   "source": [
    "# Preprocess the query\n",
    "query_processed = preprocess2(query)\n"
   ]
  },
  {
   "cell_type": "code",
   "execution_count": 39,
   "metadata": {},
   "outputs": [],
   "source": [
    "# Convert the preprocessed query into a bag-of-words representation\n",
    "bow_query = dictionary.doc2bow(query_processed)\n"
   ]
  },
  {
   "cell_type": "code",
   "execution_count": 40,
   "metadata": {},
   "outputs": [],
   "source": [
    "# Create a TF-IDF representation of the preprocessed query\n",
    "tfidf_query = tfidf[bow_query]\n"
   ]
  },
  {
   "cell_type": "code",
   "execution_count": 42,
   "metadata": {},
   "outputs": [],
   "source": [
    "# Get the LSI representation of the preprocessed query\n",
    "lsi_query = lsi_model[tfidf_query]\n"
   ]
  },
  {
   "cell_type": "code",
   "execution_count": 33,
   "metadata": {},
   "outputs": [],
   "source": [
    "from gensim import similarities"
   ]
  },
  {
   "cell_type": "code",
   "execution_count": 35,
   "metadata": {},
   "outputs": [],
   "source": [
    "from gensim import corpora\n",
    "corpus_load = corpora.MmCorpus('BoW_corpus.mm')"
   ]
  },
  {
   "cell_type": "code",
   "execution_count": 47,
   "metadata": {},
   "outputs": [],
   "source": [
    "# calculate the cosine similarity between the query and each document in the corpus\n",
    "index = similarities.MatrixSimilarity(lsi_model[corpus_load])\n",
    "sims = index[lsi_query]"
   ]
  },
  {
   "cell_type": "code",
   "execution_count": 44,
   "metadata": {},
   "outputs": [
    {
     "name": "stderr",
     "output_type": "stream",
     "text": [
      "2023-02-20 18:08:32.921 storing corpus in Matrix Market format to BoW_corpus.mm\n",
      "2023-02-20 18:08:32.924 saving sparse matrix to BoW_corpus.mm\n",
      "2023-02-20 18:08:32.925 PROGRESS: saving document #0\n",
      "2023-02-20 18:08:33.427 PROGRESS: saving document #1000\n",
      "2023-02-20 18:08:33.792 PROGRESS: saving document #2000\n",
      "2023-02-20 18:08:34.042 PROGRESS: saving document #3000\n",
      "2023-02-20 18:08:34.398 PROGRESS: saving document #4000\n",
      "2023-02-20 18:08:34.744 PROGRESS: saving document #5000\n",
      "2023-02-20 18:08:35.023 PROGRESS: saving document #6000\n",
      "2023-02-20 18:08:35.281 PROGRESS: saving document #7000\n",
      "2023-02-20 18:08:35.521 PROGRESS: saving document #8000\n",
      "2023-02-20 18:08:35.771 PROGRESS: saving document #9000\n",
      "2023-02-20 18:08:35.991 PROGRESS: saving document #10000\n",
      "2023-02-20 18:08:36.274 PROGRESS: saving document #11000\n",
      "2023-02-20 18:08:36.519 PROGRESS: saving document #12000\n",
      "2023-02-20 18:08:36.935 PROGRESS: saving document #13000\n",
      "2023-02-20 18:08:37.169 PROGRESS: saving document #14000\n",
      "2023-02-20 18:08:37.477 PROGRESS: saving document #15000\n",
      "2023-02-20 18:08:37.715 PROGRESS: saving document #16000\n",
      "2023-02-20 18:08:38.158 PROGRESS: saving document #17000\n",
      "2023-02-20 18:08:38.495 PROGRESS: saving document #18000\n",
      "2023-02-20 18:08:38.911 PROGRESS: saving document #19000\n",
      "2023-02-20 18:08:39.281 PROGRESS: saving document #20000\n",
      "2023-02-20 18:08:39.540 PROGRESS: saving document #21000\n",
      "2023-02-20 18:08:39.815 PROGRESS: saving document #22000\n",
      "2023-02-20 18:08:40.158 PROGRESS: saving document #23000\n",
      "2023-02-20 18:08:40.711 PROGRESS: saving document #24000\n",
      "2023-02-20 18:08:40.943 PROGRESS: saving document #25000\n",
      "2023-02-20 18:08:41.194 PROGRESS: saving document #26000\n",
      "2023-02-20 18:08:41.461 PROGRESS: saving document #27000\n",
      "2023-02-20 18:08:41.848 PROGRESS: saving document #28000\n",
      "2023-02-20 18:08:42.125 PROGRESS: saving document #29000\n",
      "2023-02-20 18:08:42.364 PROGRESS: saving document #30000\n",
      "2023-02-20 18:08:42.578 PROGRESS: saving document #31000\n",
      "2023-02-20 18:08:42.777 PROGRESS: saving document #32000\n",
      "2023-02-20 18:08:43.044 PROGRESS: saving document #33000\n",
      "2023-02-20 18:08:43.292 PROGRESS: saving document #34000\n",
      "2023-02-20 18:08:43.556 PROGRESS: saving document #35000\n",
      "2023-02-20 18:08:43.774 PROGRESS: saving document #36000\n",
      "2023-02-20 18:08:44.058 PROGRESS: saving document #37000\n",
      "2023-02-20 18:08:44.273 PROGRESS: saving document #38000\n",
      "2023-02-20 18:08:44.495 PROGRESS: saving document #39000\n",
      "2023-02-20 18:08:44.664 PROGRESS: saving document #40000\n",
      "2023-02-20 18:08:44.720 saved 40219x51575 matrix, density=0.139% (2878228/2074294925)\n",
      "2023-02-20 18:08:44.722 saving MmCorpus index to BoW_corpus.mm.index\n"
     ]
    }
   ],
   "source": [
    "\n",
    "corpora.MmCorpus.serialize(\"BoW_corpus.mm\", bow_corpus)"
   ]
  },
  {
   "cell_type": "code",
   "execution_count": 120,
   "metadata": {},
   "outputs": [
    {
     "ename": "KeyError",
     "evalue": "40161",
     "output_type": "error",
     "traceback": [
      "\u001b[1;31m---------------------------------------------------------------------------\u001b[0m",
      "\u001b[1;31mValueError\u001b[0m                                Traceback (most recent call last)",
      "File \u001b[1;32mc:\\Program Files\\Python39\\lib\\site-packages\\pandas\\core\\indexes\\range.py:391\u001b[0m, in \u001b[0;36mRangeIndex.get_loc\u001b[1;34m(self, key, method, tolerance)\u001b[0m\n\u001b[0;32m    390\u001b[0m \u001b[39mtry\u001b[39;00m:\n\u001b[1;32m--> 391\u001b[0m     \u001b[39mreturn\u001b[39;00m \u001b[39mself\u001b[39;49m\u001b[39m.\u001b[39;49m_range\u001b[39m.\u001b[39;49mindex(new_key)\n\u001b[0;32m    392\u001b[0m \u001b[39mexcept\u001b[39;00m \u001b[39mValueError\u001b[39;00m \u001b[39mas\u001b[39;00m err:\n",
      "\u001b[1;31mValueError\u001b[0m: 40161 is not in range",
      "\nThe above exception was the direct cause of the following exception:\n",
      "\u001b[1;31mKeyError\u001b[0m                                  Traceback (most recent call last)",
      "\u001b[1;32mc:\\Users\\el ouatiq\\OneDrive\\Bureau\\SEO-LSI\\seo.ipynb Cellule 46\u001b[0m in \u001b[0;36m<cell line: 1>\u001b[1;34m()\u001b[0m\n\u001b[1;32m----> <a href='vscode-notebook-cell:/c%3A/Users/el%20ouatiq/OneDrive/Bureau/SEO-LSI/seo.ipynb#X62sZmlsZQ%3D%3D?line=0'>1</a>\u001b[0m sims_sorted_with_urls \u001b[39m=\u001b[39m [(index, score, new[\u001b[39m\"\u001b[39m\u001b[39murl\u001b[39m\u001b[39m\"\u001b[39m][index][\u001b[39m0\u001b[39m:\u001b[39m20\u001b[39m]) \u001b[39mfor\u001b[39;00m index, score \u001b[39min\u001b[39;00m \u001b[39msorted\u001b[39m(\u001b[39menumerate\u001b[39m(sims), key\u001b[39m=\u001b[39m\u001b[39mlambda\u001b[39;00m item: \u001b[39m-\u001b[39mitem[\u001b[39m1\u001b[39m])]\n",
      "\u001b[1;32mc:\\Users\\el ouatiq\\OneDrive\\Bureau\\SEO-LSI\\seo.ipynb Cellule 46\u001b[0m in \u001b[0;36m<listcomp>\u001b[1;34m(.0)\u001b[0m\n\u001b[1;32m----> <a href='vscode-notebook-cell:/c%3A/Users/el%20ouatiq/OneDrive/Bureau/SEO-LSI/seo.ipynb#X62sZmlsZQ%3D%3D?line=0'>1</a>\u001b[0m sims_sorted_with_urls \u001b[39m=\u001b[39m [(index, score, new[\u001b[39m\"\u001b[39;49m\u001b[39murl\u001b[39;49m\u001b[39m\"\u001b[39;49m][index][\u001b[39m0\u001b[39m:\u001b[39m20\u001b[39m]) \u001b[39mfor\u001b[39;00m index, score \u001b[39min\u001b[39;00m \u001b[39msorted\u001b[39m(\u001b[39menumerate\u001b[39m(sims), key\u001b[39m=\u001b[39m\u001b[39mlambda\u001b[39;00m item: \u001b[39m-\u001b[39mitem[\u001b[39m1\u001b[39m])]\n",
      "File \u001b[1;32mc:\\Program Files\\Python39\\lib\\site-packages\\pandas\\core\\series.py:981\u001b[0m, in \u001b[0;36mSeries.__getitem__\u001b[1;34m(self, key)\u001b[0m\n\u001b[0;32m    978\u001b[0m     \u001b[39mreturn\u001b[39;00m \u001b[39mself\u001b[39m\u001b[39m.\u001b[39m_values[key]\n\u001b[0;32m    980\u001b[0m \u001b[39melif\u001b[39;00m key_is_scalar:\n\u001b[1;32m--> 981\u001b[0m     \u001b[39mreturn\u001b[39;00m \u001b[39mself\u001b[39;49m\u001b[39m.\u001b[39;49m_get_value(key)\n\u001b[0;32m    983\u001b[0m \u001b[39mif\u001b[39;00m is_hashable(key):\n\u001b[0;32m    984\u001b[0m     \u001b[39m# Otherwise index.get_value will raise InvalidIndexError\u001b[39;00m\n\u001b[0;32m    985\u001b[0m     \u001b[39mtry\u001b[39;00m:\n\u001b[0;32m    986\u001b[0m         \u001b[39m# For labels that don't resolve as scalars like tuples and frozensets\u001b[39;00m\n",
      "File \u001b[1;32mc:\\Program Files\\Python39\\lib\\site-packages\\pandas\\core\\series.py:1089\u001b[0m, in \u001b[0;36mSeries._get_value\u001b[1;34m(self, label, takeable)\u001b[0m\n\u001b[0;32m   1086\u001b[0m     \u001b[39mreturn\u001b[39;00m \u001b[39mself\u001b[39m\u001b[39m.\u001b[39m_values[label]\n\u001b[0;32m   1088\u001b[0m \u001b[39m# Similar to Index.get_value, but we do not fall back to positional\u001b[39;00m\n\u001b[1;32m-> 1089\u001b[0m loc \u001b[39m=\u001b[39m \u001b[39mself\u001b[39;49m\u001b[39m.\u001b[39;49mindex\u001b[39m.\u001b[39;49mget_loc(label)\n\u001b[0;32m   1090\u001b[0m \u001b[39mreturn\u001b[39;00m \u001b[39mself\u001b[39m\u001b[39m.\u001b[39mindex\u001b[39m.\u001b[39m_get_values_for_loc(\u001b[39mself\u001b[39m, loc, label)\n",
      "File \u001b[1;32mc:\\Program Files\\Python39\\lib\\site-packages\\pandas\\core\\indexes\\range.py:393\u001b[0m, in \u001b[0;36mRangeIndex.get_loc\u001b[1;34m(self, key, method, tolerance)\u001b[0m\n\u001b[0;32m    391\u001b[0m         \u001b[39mreturn\u001b[39;00m \u001b[39mself\u001b[39m\u001b[39m.\u001b[39m_range\u001b[39m.\u001b[39mindex(new_key)\n\u001b[0;32m    392\u001b[0m     \u001b[39mexcept\u001b[39;00m \u001b[39mValueError\u001b[39;00m \u001b[39mas\u001b[39;00m err:\n\u001b[1;32m--> 393\u001b[0m         \u001b[39mraise\u001b[39;00m \u001b[39mKeyError\u001b[39;00m(key) \u001b[39mfrom\u001b[39;00m \u001b[39merr\u001b[39;00m\n\u001b[0;32m    394\u001b[0m \u001b[39mself\u001b[39m\u001b[39m.\u001b[39m_check_indexing_error(key)\n\u001b[0;32m    395\u001b[0m \u001b[39mraise\u001b[39;00m \u001b[39mKeyError\u001b[39;00m(key)\n",
      "\u001b[1;31mKeyError\u001b[0m: 40161"
     ]
    }
   ],
   "source": [
    "sims_sorted_with_urls = [(index, score, urls[index]) for index, score in sorted(enumerate(sims), key=lambda item: -item[1])]"
   ]
  },
  {
   "cell_type": "code",
   "execution_count": 108,
   "metadata": {},
   "outputs": [
    {
     "data": {
      "text/plain": [
       "(6075, 1.0, 'https://www.ncbi.nlm.nih.gov/pmc/articles/PMC4766874/')"
      ]
     },
     "execution_count": 108,
     "metadata": {},
     "output_type": "execute_result"
    }
   ],
   "source": [
    "sims_sorted_with_urls[0]"
   ]
  },
  {
   "cell_type": "code",
   "execution_count": 137,
   "metadata": {},
   "outputs": [],
   "source": [
    "sims_sorted_with_urls = sims_sorted_with_urls[0:20]"
   ]
  },
  {
   "cell_type": "code",
   "execution_count": 138,
   "metadata": {},
   "outputs": [
    {
     "name": "stdout",
     "output_type": "stream",
     "text": [
      "https://www.ncbi.nlm.nih.gov/pmc/articles/PMC4766874/ \n",
      " 1.0\n",
      "https://www.ncbi.nlm.nih.gov/pmc/articles/PMC5535864/ \n",
      " 1.0\n",
      "https://www.ncbi.nlm.nih.gov/pmc/articles/PMC7123565/ \n",
      " 1.0\n",
      "https://www.ncbi.nlm.nih.gov/pmc/articles/PMC7120100/ \n",
      " 1.0\n",
      "https://doi.org/10.1016/b978-0-7020-4061-0.00004-2 \n",
      " 1.0\n",
      "https://doi.org/10.1016/s0091-6749(03)81027-8 \n",
      " 1.0\n",
      "https://www.ncbi.nlm.nih.gov/pmc/articles/PMC112386/ \n",
      " 1.0\n",
      "https://www.ncbi.nlm.nih.gov/pmc/articles/PMC2396482/ \n",
      " 0.9999999403953552\n",
      "https://www.ncbi.nlm.nih.gov/pmc/articles/PMC4714422/ \n",
      " 0.9999999403953552\n",
      "https://www.ncbi.nlm.nih.gov/pmc/articles/PMC4803184/ \n",
      " 0.9999999403953552\n",
      "https://www.ncbi.nlm.nih.gov/pmc/articles/PMC6487183/ \n",
      " 0.9999999403953552\n",
      "https://doi.org/10.1101/2020.04.02.022186 \n",
      " 0.9999999403953552\n",
      "https://doi.org/10.1016/j.smim.2004.02.003 \n",
      " 0.9999999403953552\n",
      "https://www.ncbi.nlm.nih.gov/pmc/articles/PMC6143185/ \n",
      " 0.9999998807907104\n",
      "https://www.ncbi.nlm.nih.gov/pmc/articles/PMC7107947/ \n",
      " 0.9999998807907104\n",
      "https://www.ncbi.nlm.nih.gov/pmc/articles/PMC5866432/ \n",
      " 0.9999998807907104\n",
      "https://jvi.asm.org/content/jvi/92/20/e01119-18.full.pdf \n",
      " 0.9999998807907104\n",
      "https://doi.org/10.1016/b978-0-7020-5401-3.00015-1 \n",
      " 0.9999998807907104\n",
      "https://doi.org/10.1016/j.nrl.2020.03.001 \n",
      " 0.9999998807907104\n",
      "https://www.ncbi.nlm.nih.gov/pmc/articles/PMC2733284/ \n",
      " 0.9999998807907104\n"
     ]
    }
   ],
   "source": [
    "for index, score, url in sims_sorted_with_urls:\n",
    "    print(f\"{url} \\n {score}\")"
   ]
  }
 ],
 "metadata": {
  "kernelspec": {
   "display_name": "Python 3.9.0 64-bit",
   "language": "python",
   "name": "python3"
  },
  "language_info": {
   "codemirror_mode": {
    "name": "ipython",
    "version": 3
   },
   "file_extension": ".py",
   "mimetype": "text/x-python",
   "name": "python",
   "nbconvert_exporter": "python",
   "pygments_lexer": "ipython3",
   "version": "3.9.0"
  },
  "orig_nbformat": 4,
  "vscode": {
   "interpreter": {
    "hash": "11938c6bc6919ae2720b4d5011047913343b08a43b18698fd82dedb0d4417594"
   }
  }
 },
 "nbformat": 4,
 "nbformat_minor": 2
}
